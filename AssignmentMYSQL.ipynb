{
 "cells": [
  {
   "cell_type": "code",
   "execution_count": null,
   "id": "df680dca-401a-4781-bbb7-2e3f3f174b75",
   "metadata": {},
   "outputs": [],
   "source": [
    "#Q1"
   ]
  },
  {
   "cell_type": "markdown",
   "id": "f2f13e77-4532-4f47-a7ba-5f1e809f9594",
   "metadata": {},
   "source": [
    " A database is a structured collection of data that is organized and stored in a way that allows for efficient retrieval, management, and manipulation of information. Databases are used to store and manage data for a wide range of applications, from simple personal address books to complex enterprise systems.\n",
    "\n",
    "SQL (Structured Query Language) and NoSQL (Not Only SQL) are two broad categories of database management systems, and they have several key differences:\n"
   ]
  },
  {
   "cell_type": "markdown",
   "id": "a354ac7d-ad7e-43d1-bf08-83e437bd545e",
   "metadata": {},
   "source": [
    "SQL Databases:\n",
    "\n",
    "Structure: SQL databases are relational databases, which means they use tables to store data. Each table consists of rows and columns, and relationships between tables are defined through foreign keys.\n",
    "\n",
    "Schema: SQL databases have a predefined schema that defines the structure of the data. The schema specifies the tables, columns, data types, and constraints for the database.\n",
    "\n",
    "Query Language: SQL databases use the SQL language for querying and manipulating data. SQL is a powerful language for complex queries and transactions.\n",
    "\n",
    "Consistency: SQL databases prioritize data consistency, adhering to the ACID (Atomicity, Consistency, Isolation, Durability) properties. This ensures that data remains in a consistent state even in the presence of failures.\n",
    "\n",
    "Scaling: SQL databases are typically scaled vertically, which means you can increase their capacity by adding more resources (e.g., CPU, memory) to a single server. Vertical scaling has limits in terms of scalability.\n",
    "\n",
    "Common SQL databases include MySQL, PostgreSQL, Oracle Database, and Microsoft SQL Server."
   ]
  },
  {
   "cell_type": "markdown",
   "id": "dbb1d36a-8ee7-4ccc-aa9b-447a877be02e",
   "metadata": {},
   "source": [
    "NoSQL Databases:\n",
    "\n",
    "Structure: NoSQL databases are non-relational and are designed to handle unstructured or semi-structured data. They use various data models, including document-oriented, key-value, column-family, and graph databases.\n",
    "\n",
    "Schema: NoSQL databases are schema-less or schema-flexible, meaning you can add or change fields without affecting the entire database. This flexibility is well-suited for rapidly changing data.\n",
    "\n",
    "Query Language: NoSQL databases use different query languages, often specific to the type of database. For example, MongoDB uses a query language that works with JSON-like documents.\n",
    "\n",
    "Consistency: NoSQL databases may prioritize performance and scalability over strict consistency, often adhering to the CAP theorem (Consistency, Availability, Partition Tolerance). They may offer eventual consistency instead of strong consistency.\n",
    "\n",
    "Scaling: NoSQL databases are typically scaled horizontally, which involves adding more servers to distribute the data and load across a cluster. This makes them highly scalable for handling large amounts of data and traffic.\n",
    "\n",
    "Common NoSQL databases include MongoDB, Cassandra, Redis, and Neo4j."
   ]
  },
  {
   "cell_type": "code",
   "execution_count": null,
   "id": "f6d10df7-3f88-4b7d-b02f-38c68d19545e",
   "metadata": {},
   "outputs": [],
   "source": [
    "#Q2"
   ]
  },
  {
   "cell_type": "code",
   "execution_count": null,
   "id": "fa7450d3-aa8d-427c-a09e-e70fd499554d",
   "metadata": {},
   "outputs": [],
   "source": []
  },
  {
   "cell_type": "code",
   "execution_count": null,
   "id": "d268742a-49ec-4df2-91b3-dc47487d73d7",
   "metadata": {},
   "outputs": [],
   "source": [
    "#Q3"
   ]
  },
  {
   "cell_type": "code",
   "execution_count": null,
   "id": "8dc97b27-014c-4261-a647-0bb5abe011df",
   "metadata": {},
   "outputs": [],
   "source": []
  },
  {
   "cell_type": "code",
   "execution_count": null,
   "id": "a3103f2e-9fb1-4576-b410-90e2dd39cc5d",
   "metadata": {},
   "outputs": [],
   "source": [
    "#Q4"
   ]
  },
  {
   "cell_type": "code",
   "execution_count": null,
   "id": "ab17fcc4-c762-49c6-861a-b0f2d81e6100",
   "metadata": {},
   "outputs": [],
   "source": []
  },
  {
   "cell_type": "code",
   "execution_count": null,
   "id": "a68788f0-2db7-4352-b7a7-b0cd3612a686",
   "metadata": {},
   "outputs": [],
   "source": [
    "#Q5"
   ]
  },
  {
   "cell_type": "code",
   "execution_count": null,
   "id": "d09c4703-b359-4756-97fd-7479ec12d7c9",
   "metadata": {},
   "outputs": [],
   "source": []
  },
  {
   "cell_type": "code",
   "execution_count": null,
   "id": "a39ff6c4-0a0d-4556-b32d-3b53f052f192",
   "metadata": {},
   "outputs": [],
   "source": []
  }
 ],
 "metadata": {
  "kernelspec": {
   "display_name": "Python 3 (ipykernel)",
   "language": "python",
   "name": "python3"
  },
  "language_info": {
   "codemirror_mode": {
    "name": "ipython",
    "version": 3
   },
   "file_extension": ".py",
   "mimetype": "text/x-python",
   "name": "python",
   "nbconvert_exporter": "python",
   "pygments_lexer": "ipython3",
   "version": "3.10.8"
  }
 },
 "nbformat": 4,
 "nbformat_minor": 5
}
